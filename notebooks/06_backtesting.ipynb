{
 "cells": [
  {
   "cell_type": "markdown",
   "id": "42197f3c",
   "metadata": {},
   "source": [
    "# 06 Backtesting\n",
    "- Simulate strategy vs. benchmark\n",
    "- Cumulative returns, Sharpe Ratio\n",
    "- Performance summary"
   ]
  },
  {
   "cell_type": "markdown",
   "id": "a70487a8",
   "metadata": {},
   "source": [
    "# 06 Backtesting\n",
    "This notebook simulates the performance of the optimized portfolio and compares it to a benchmark portfolio."
   ]
  },
  {
   "cell_type": "code",
   "execution_count": null,
   "id": "3728f812",
   "metadata": {},
   "outputs": [],
   "source": [
    "# Import required libraries\n",
    "import pandas as pd\n",
    "import numpy as np\n",
    "import matplotlib.pyplot as plt"
   ]
  },
  {
   "cell_type": "code",
   "execution_count": null,
   "id": "20dbf519",
   "metadata": {},
   "outputs": [],
   "source": [
    "# Load processed price data for TSLA, BND, SPY\n",
    "assets = ['TSLA', 'BND', 'SPY']\n",
    "dfs = []\n",
    "for asset in assets:\n",
    "    df = pd.read_csv(f'../data/processed/{asset}_processed.csv')\n",
    "    df['Date'] = pd.to_datetime(df['Date'])\n",
    "    df = df.set_index('Date')\n",
    "    dfs.append(df['Adj Close'])\n",
    "prices = pd.concat(dfs, axis=1)\n",
    "prices.columns = assets\n",
    "prices = prices.dropna()\n",
    "\n",
    "# Set backtest period (last year)\n",
    "start_date = '2024-08-01'\n",
    "end_date = '2025-07-31'\n",
    "prices_bt = prices.loc[start_date:end_date]\n",
    "prices_bt.head()"
   ]
  },
  {
   "cell_type": "code",
   "execution_count": null,
   "id": "51f5b362",
   "metadata": {},
   "outputs": [],
   "source": [
    "# Define strategy and benchmark weights\n",
    "# Example: use max Sharpe weights from optimization (replace with your actual weights)\n",
    "strategy_weights = {'TSLA': 0.4, 'BND': 0.3, 'SPY': 0.3}\n",
    "benchmark_weights = {'TSLA': 0.0, 'BND': 0.4, 'SPY': 0.6}\n",
    "\n",
    "# Calculate daily returns\n",
    "returns = prices_bt.pct_change().dropna()\n",
    "\n",
    "# Calculate portfolio returns\n",
    "strat_returns = sum(returns[asset] * w for asset, w in strategy_weights.items())\n",
    "bench_returns = sum(returns[asset] * w for asset, w in benchmark_weights.items())"
   ]
  },
  {
   "cell_type": "code",
   "execution_count": null,
   "id": "dc0c127f",
   "metadata": {},
   "outputs": [],
   "source": [
    "# Calculate and plot cumulative returns for strategy and benchmark\n",
    "strat_cum = (1 + strat_returns).cumprod()\n",
    "bench_cum = (1 + bench_returns).cumprod()\n",
    "\n",
    "plt.figure(figsize=(12,6))\n",
    "plt.plot(strat_cum, label='Strategy Portfolio')\n",
    "plt.plot(bench_cum, label='Benchmark (60% SPY, 40% BND)')\n",
    "plt.title('Backtest: Cumulative Returns')\n",
    "plt.xlabel('Date')\n",
    "plt.ylabel('Cumulative Return')\n",
    "plt.legend()\n",
    "plt.show()"
   ]
  },
  {
   "cell_type": "code",
   "execution_count": null,
   "id": "4529ff13",
   "metadata": {},
   "outputs": [],
   "source": [
    "# Calculate Sharpe ratio and total return for both portfolios\n",
    "sharpe_strat = strat_returns.mean() / strat_returns.std() * np.sqrt(252)\n",
    "sharpe_bench = bench_returns.mean() / bench_returns.std() * np.sqrt(252)\n",
    "total_strat = strat_cum.iloc[-1] - 1\n",
    "total_bench = bench_cum.iloc[-1] - 1\n",
    "\n",
    "print(f\"Strategy Sharpe: {sharpe_strat:.2f}, Total Return: {total_strat:.2%}\")\n",
    "print(f\"Benchmark Sharpe: {sharpe_bench:.2f}, Total Return: {total_bench:.2%}\")"
   ]
  },
  {
   "cell_type": "markdown",
   "id": "b9234953",
   "metadata": {},
   "source": [
    "## Summary & Interpretation\n",
    "- Did your strategy outperform the benchmark?\n",
    "- What does this initial backtest suggest about the viability of your model-driven approach?\n",
    "- Discuss any limitations and next steps for further validation."
   ]
  }
 ],
 "metadata": {
  "language_info": {
   "name": "python"
  }
 },
 "nbformat": 4,
 "nbformat_minor": 5
}
