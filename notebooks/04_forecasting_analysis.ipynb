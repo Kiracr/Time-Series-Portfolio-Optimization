{
 "cells": [
  {
   "cell_type": "markdown",
   "id": "55b535e9",
   "metadata": {},
   "source": [
    "# 04 Forecasting Analysis\n",
    "- Use trained models to forecast TSLA\n",
    "- Visualize forecasts with confidence intervals\n",
    "- Trend and risk analysis"
   ]
  },
  {
   "cell_type": "markdown",
   "id": "d211cea9",
   "metadata": {},
   "source": [
    "# 04 Forecasting Analysis\n",
    "This notebook visualizes and analyzes the forecasts from ARIMA and LSTM models, including confidence intervals and risk discussion."
   ]
  },
  {
   "cell_type": "code",
   "execution_count": null,
   "id": "f732a0e1",
   "metadata": {},
   "outputs": [],
   "source": [
    "# Import required libraries\n",
    "import pandas as pd\n",
    "import numpy as np\n",
    "import matplotlib.pyplot as plt\n",
    "import seaborn as sns"
   ]
  },
  {
   "cell_type": "code",
   "execution_count": null,
   "id": "afcf08c2",
   "metadata": {},
   "outputs": [],
   "source": [
    "# Load ARIMA and LSTM forecast results\n",
    "arima_results = pd.read_csv('../reports/TSLA_arima_results.csv', index_col=0, parse_dates=True)\n",
    "lstm_results = pd.read_csv('../reports/TSLA_lstm_results.csv', index_col=0, parse_dates=True)\n",
    "\n",
    "# Load actual test set for reference\n",
    "actual = arima_results['Actual']\n",
    "arima_forecast = arima_results['Forecast']\n",
    "lstm_forecast = lstm_results['Forecast']"
   ]
  },
  {
   "cell_type": "code",
   "execution_count": null,
   "id": "0d157b83",
   "metadata": {},
   "outputs": [],
   "source": [
    "# Plot actual vs ARIMA and LSTM forecasts\n",
    "plt.figure(figsize=(12,6))\n",
    "plt.plot(actual.index, actual, label='Actual', color='black')\n",
    "plt.plot(arima_forecast.index, arima_forecast, label='ARIMA Forecast', color='green')\n",
    "plt.plot(lstm_forecast.index, lstm_forecast, label='LSTM Forecast', color='blue')\n",
    "plt.title('TSLA: Actual vs ARIMA and LSTM Forecasts')\n",
    "plt.xlabel('Date')\n",
    "plt.ylabel('Adj Close')\n",
    "plt.legend()\n",
    "plt.show()"
   ]
  },
  {
   "cell_type": "code",
   "execution_count": null,
   "id": "0346d236",
   "metadata": {},
   "outputs": [],
   "source": [
    "# Plot ARIMA forecast with confidence intervals (if available)\n",
    "# If you saved confidence intervals, load and plot them. Otherwise, simulate for illustration.\n",
    "if 'lower' in arima_results.columns and 'upper' in arima_results.columns:\n",
    "    lower = arima_results['lower']\n",
    "    upper = arima_results['upper']\n",
    "else:\n",
    "    # Simulate 95% CI as forecast ± 2*std of residuals\n",
    "    residuals = actual - arima_forecast\n",
    "    std = residuals.std()\n",
    "    lower = arima_forecast - 2*std\n",
    "    upper = arima_forecast + 2*std\n",
    "\n",
    "plt.figure(figsize=(12,6))\n",
    "plt.plot(actual.index, actual, label='Actual', color='black')\n",
    "plt.plot(arima_forecast.index, arima_forecast, label='ARIMA Forecast', color='green')\n",
    "plt.fill_between(arima_forecast.index, lower, upper, color='green', alpha=0.2, label='ARIMA 95% CI')\n",
    "plt.title('ARIMA Forecast with Confidence Intervals')\n",
    "plt.xlabel('Date')\n",
    "plt.ylabel('Adj Close')\n",
    "plt.legend()\n",
    "plt.show()"
   ]
  },
  {
   "cell_type": "code",
   "execution_count": null,
   "id": "774332c1",
   "metadata": {},
   "outputs": [],
   "source": [
    "# Analyze the width of the ARIMA confidence intervals over time\n",
    "ci_width = upper - lower\n",
    "plt.figure(figsize=(10,4))\n",
    "plt.plot(ci_width.index, ci_width, label='95% CI Width')\n",
    "plt.title('ARIMA Confidence Interval Width Over Time')\n",
    "plt.xlabel('Date')\n",
    "plt.ylabel('Width')\n",
    "plt.legend()\n",
    "plt.show()\n",
    "\n",
    "print(f'Mean CI width: {ci_width.mean():.2f}, Max CI width: {ci_width.max():.2f}')"
   ]
  },
  {
   "cell_type": "code",
   "execution_count": null,
   "id": "ff4dea40",
   "metadata": {},
   "outputs": [],
   "source": [
    "# Compare ARIMA and LSTM forecast errors\n",
    "arima_resid = actual - arima_forecast\n",
    "lstm_resid = actual - lstm_forecast\n",
    "\n",
    "plt.figure(figsize=(10,4))\n",
    "plt.plot(arima_resid.index, arima_resid, label='ARIMA Residuals')\n",
    "plt.plot(lstm_resid.index, lstm_resid, label='LSTM Residuals')\n",
    "plt.title('Forecast Residuals: ARIMA vs LSTM')\n",
    "plt.xlabel('Date')\n",
    "plt.ylabel('Residual')\n",
    "plt.legend()\n",
    "plt.show()\n",
    "\n",
    "arima_rmse = np.sqrt(np.mean(arima_resid**2))\n",
    "lstm_rmse = np.sqrt(np.mean(lstm_resid**2))\n",
    "print(f'ARIMA RMSE: {arima_rmse:.2f}, LSTM RMSE: {lstm_rmse:.2f}')"
   ]
  },
  {
   "cell_type": "markdown",
   "id": "0e95068b",
   "metadata": {},
   "source": [
    "## Interpretation & Discussion\n",
    "- Discuss the trends and patterns in the forecasts and confidence intervals.\n",
    "- Analyze the level of uncertainty and risk, and what the CI width implies for long-term forecasting.\n",
    "- Summarize which model performed better and why, and outline potential market opportunities and risks."
   ]
  }
 ],
 "metadata": {
  "language_info": {
   "name": "python"
  }
 },
 "nbformat": 4,
 "nbformat_minor": 5
}
