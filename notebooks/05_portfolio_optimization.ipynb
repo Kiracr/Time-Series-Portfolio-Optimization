{
 "cells": [
  {
   "cell_type": "markdown",
   "id": "df2d06af",
   "metadata": {},
   "source": [
    "# 05 Portfolio Optimization\n",
    "- Use forecasted and historical returns\n",
    "- Efficient Frontier, Sharpe Ratio\n",
    "- Portfolio selection and justification"
   ]
  },
  {
   "cell_type": "markdown",
   "id": "70575e57",
   "metadata": {},
   "source": [
    "# 05 Portfolio Optimization\n",
    "This notebook demonstrates how to use forecasted and historical returns to optimize a portfolio using Modern Portfolio Theory (MPT) and PyPortfolioOpt."
   ]
  },
  {
   "cell_type": "code",
   "execution_count": null,
   "id": "6d842b63",
   "metadata": {},
   "outputs": [],
   "source": [
    "# Import required libraries\n",
    "import pandas as pd\n",
    "import numpy as np\n",
    "import matplotlib.pyplot as plt\n",
    "from pypfopt import EfficientFrontier, risk_models, expected_returns, plotting"
   ]
  },
  {
   "cell_type": "code",
   "execution_count": null,
   "id": "257ac069",
   "metadata": {},
   "outputs": [],
   "source": [
    "# Load processed price data for TSLA, BND, SPY\n",
    "assets = ['TSLA', 'BND', 'SPY']\n",
    "dfs = []\n",
    "for asset in assets:\n",
    "    df = pd.read_csv(f'../data/processed/{asset}_processed.csv')\n",
    "    df['Date'] = pd.to_datetime(df['Date'])\n",
    "    df = df.set_index('Date')\n",
    "    dfs.append(df['Adj Close'])\n",
    "prices = pd.concat(dfs, axis=1)\n",
    "prices.columns = assets\n",
    "prices = prices.dropna()\n",
    "prices.head()"
   ]
  },
  {
   "cell_type": "code",
   "execution_count": null,
   "id": "e8346e11",
   "metadata": {},
   "outputs": [],
   "source": [
    "# Calculate expected returns and sample covariance matrix\n",
    "mu = expected_returns.mean_historical_return(prices)\n",
    "S = risk_models.sample_cov(prices)\n",
    "print('Expected annual returns:')\n",
    "print(mu)\n",
    "print('\\nCovariance matrix:')\n",
    "print(S)"
   ]
  },
  {
   "cell_type": "code",
   "execution_count": null,
   "id": "b2a29e24",
   "metadata": {},
   "outputs": [],
   "source": [
    "# Run portfolio optimization for maximum Sharpe ratio and minimum volatility\n",
    "# Efficient Frontier\n",
    "ef = EfficientFrontier(mu, S)\n",
    "max_sharpe_weights = ef.max_sharpe()\n",
    "cleaned_max_sharpe = ef.clean_weights()\n",
    "perf_max_sharpe = ef.portfolio_performance(verbose=True)\n",
    "\n",
    "# Minimum volatility portfolio\n",
    "ef_min = EfficientFrontier(mu, S)\n",
    "ef_min.min_volatility()\n",
    "cleaned_min_vol = ef_min.clean_weights()\n",
    "perf_min_vol = ef_min.portfolio_performance(verbose=True)\n",
    "\n",
    "print('Max Sharpe Weights:', cleaned_max_sharpe)\n",
    "print('Min Volatility Weights:', cleaned_min_vol)"
   ]
  },
  {
   "cell_type": "code",
   "execution_count": null,
   "id": "3ff2ec3c",
   "metadata": {},
   "outputs": [],
   "source": [
    "# Plot the efficient frontier and mark optimal portfolios\n",
    "fig, ax = plt.subplots(figsize=(8,6))\n",
    "plotting.plot_efficient_frontier(ef, ax=ax, show_assets=True)\n",
    "\n",
    "# Mark the max Sharpe and min volatility portfolios\n",
    "from pypfopt import discrete_allocation\n",
    "\n",
    "# Get risk and return for max Sharpe and min vol\n",
    "ret_sharpe, vol_sharpe, _ = perf_max_sharpe\n",
    "ret_min, vol_min, _ = perf_min_vol\n",
    "ax.scatter(vol_sharpe, ret_sharpe, marker='*', color='r', s=200, label='Max Sharpe')\n",
    "ax.scatter(vol_min, ret_min, marker='o', color='b', s=200, label='Min Volatility')\n",
    "plt.title('Efficient Frontier with Optimal Portfolios')\n",
    "plt.xlabel('Volatility (Risk)')\n",
    "plt.ylabel('Return')\n",
    "plt.legend()\n",
    "plt.show()"
   ]
  },
  {
   "cell_type": "code",
   "execution_count": null,
   "id": "0e003e5e",
   "metadata": {},
   "outputs": [],
   "source": [
    "# Summarize and recommend an optimal portfolio\n",
    "print('Recommended Portfolio (Max Sharpe):')\n",
    "for asset, weight in cleaned_max_sharpe.items():\n",
    "    print(f'{asset}: {weight:.2%}')\n",
    "print(f'Expected annual return: {perf_max_sharpe[0]:.2%}')\n",
    "print(f'Annual volatility: {perf_max_sharpe[1]:.2%}')\n",
    "print(f'Sharpe Ratio: {perf_max_sharpe[2]:.2f}')"
   ]
  },
  {
   "cell_type": "markdown",
   "id": "416fbe9f",
   "metadata": {},
   "source": [
    "## Discussion & Justification\n",
    "- Justify the choice of optimal portfolio (e.g., max Sharpe for risk-adjusted return, min volatility for safety).\n",
    "- Summarize the weights, expected return, volatility, and Sharpe ratio.\n",
    "- Discuss how the forecasted TSLA return influenced the allocation."
   ]
  }
 ],
 "metadata": {
  "language_info": {
   "name": "python"
  }
 },
 "nbformat": 4,
 "nbformat_minor": 5
}
