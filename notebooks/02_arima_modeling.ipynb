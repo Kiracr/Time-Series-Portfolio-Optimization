{
 "cells": [
  {
   "cell_type": "markdown",
   "id": "76a85f60",
   "metadata": {},
   "source": [
    "# 02 ARIMA Modeling\n",
    "- ARIMA/SARIMA model for TSLA\n",
    "- Parameter tuning (auto_arima)\n",
    "- Model evaluation (MAE, RMSE, MAPE)"
   ]
  },
  {
   "cell_type": "markdown",
   "id": "a28fce42",
   "metadata": {},
   "source": [
    "# 02 ARIMA Modeling\n",
    "This notebook demonstrates how to build, tune, and evaluate an ARIMA/SARIMA model for TSLA stock price forecasting."
   ]
  },
  {
   "cell_type": "code",
   "execution_count": 1,
   "id": "8091f715",
   "metadata": {},
   "outputs": [
    {
     "ename": "ModuleNotFoundError",
     "evalue": "No module named 'pandas'",
     "output_type": "error",
     "traceback": [
      "\u001b[31m---------------------------------------------------------------------------\u001b[39m",
      "\u001b[31mModuleNotFoundError\u001b[39m                       Traceback (most recent call last)",
      "\u001b[36mCell\u001b[39m\u001b[36m \u001b[39m\u001b[32mIn[1]\u001b[39m\u001b[32m, line 2\u001b[39m\n\u001b[32m      1\u001b[39m \u001b[38;5;66;03m# Import required libraries\u001b[39;00m\n\u001b[32m----> \u001b[39m\u001b[32m2\u001b[39m \u001b[38;5;28;01mimport\u001b[39;00m\u001b[38;5;250m \u001b[39m\u001b[34;01mpandas\u001b[39;00m\u001b[38;5;250m \u001b[39m\u001b[38;5;28;01mas\u001b[39;00m\u001b[38;5;250m \u001b[39m\u001b[34;01mpd\u001b[39;00m\n\u001b[32m      3\u001b[39m \u001b[38;5;28;01mimport\u001b[39;00m\u001b[38;5;250m \u001b[39m\u001b[34;01mnumpy\u001b[39;00m\u001b[38;5;250m \u001b[39m\u001b[38;5;28;01mas\u001b[39;00m\u001b[38;5;250m \u001b[39m\u001b[34;01mnp\u001b[39;00m\n\u001b[32m      4\u001b[39m \u001b[38;5;28;01mimport\u001b[39;00m\u001b[38;5;250m \u001b[39m\u001b[34;01mmatplotlib\u001b[39;00m\u001b[34;01m.\u001b[39;00m\u001b[34;01mpyplot\u001b[39;00m\u001b[38;5;250m \u001b[39m\u001b[38;5;28;01mas\u001b[39;00m\u001b[38;5;250m \u001b[39m\u001b[34;01mplt\u001b[39;00m\n",
      "\u001b[31mModuleNotFoundError\u001b[39m: No module named 'pandas'"
     ]
    }
   ],
   "source": [
    "# Import required libraries\n",
    "import pandas as pd\n",
    "import numpy as np\n",
    "import matplotlib.pyplot as plt\n",
    "import seaborn as sns\n",
    "from statsmodels.tsa.statespace.sarimax import SARIMAX\n",
    "from pmdarima import auto_arima\n",
    "from sklearn.metrics import mean_absolute_error, mean_squared_error"
   ]
  },
  {
   "cell_type": "code",
   "execution_count": null,
   "id": "f22824a3",
   "metadata": {},
   "outputs": [],
   "source": [
    "# Load processed TSLA data\n",
    "# Ensure the data is preprocessed and available in the correct path\n",
    "file_path = '../data/processed/TSLA_processed.csv'\n",
    "df = pd.read_csv(file_path)\n",
    "df['Date'] = pd.to_datetime(df['Date'])\n",
    "df = df.set_index('Date').sort_index()\n",
    "df.head()"
   ]
  },
  {
   "cell_type": "code",
   "execution_count": null,
   "id": "c0a138e2",
   "metadata": {},
   "outputs": [],
   "source": [
    "# Visualize the Adjusted Close price\n",
    "plt.figure(figsize=(12,6))\n",
    "plt.plot(df.index, df['Adj Close'], label='TSLA Adj Close')\n",
    "plt.title('TSLA Adjusted Close Price')\n",
    "plt.xlabel('Date')\n",
    "plt.ylabel('Price')\n",
    "plt.legend()\n",
    "plt.show()"
   ]
  },
  {
   "cell_type": "code",
   "execution_count": null,
   "id": "49de7346",
   "metadata": {},
   "outputs": [],
   "source": [
    "# Split data into train and test sets (train: 2015-2023, test: 2024-2025)\n",
    "split_date = '2024-01-01'\n",
    "train = df.loc[df.index < split_date, 'Adj Close']\n",
    "test = df.loc[df.index >= split_date, 'Adj Close']\n",
    "print(f'Train shape: {train.shape}, Test shape: {test.shape}')"
   ]
  },
  {
   "cell_type": "code",
   "execution_count": null,
   "id": "7a24b4ad",
   "metadata": {},
   "outputs": [],
   "source": [
    "# Use auto_arima to find the best (p,d,q) parameters\n",
    "print('Running auto_arima for parameter selection...')\n",
    "stepwise_model = auto_arima(train, start_p=1, start_q=1, max_p=3, max_q=3, m=1,\n",
    "                            start_P=0, seasonal=False, d=None, trace=True,\n",
    "                            error_action='ignore', suppress_warnings=True, stepwise=True)\n",
    "print(f'Best ARIMA order: {stepwise_model.order}')"
   ]
  },
  {
   "cell_type": "code",
   "execution_count": null,
   "id": "1bfa6605",
   "metadata": {},
   "outputs": [],
   "source": [
    "# Fit SARIMAX model with the best parameters\n",
    "order = stepwise_model.order\n",
    "model = SARIMAX(train, order=order, enforce_stationarity=False, enforce_invertibility=False)\n",
    "model_fit = model.fit(disp=False)\n",
    "print(model_fit.summary())"
   ]
  },
  {
   "cell_type": "code",
   "execution_count": null,
   "id": "dbf36877",
   "metadata": {},
   "outputs": [],
   "source": [
    "# Forecast over the test set period\n",
    "n_test = len(test)\n",
    "forecast = model_fit.forecast(steps=n_test)\n",
    "forecast = pd.Series(forecast, index=test.index)\n",
    "\n",
    "# Plot actual vs forecast\n",
    "plt.figure(figsize=(12,6))\n",
    "plt.plot(train.index, train, label='Train')\n",
    "plt.plot(test.index, test, label='Test', color='orange')\n",
    "plt.plot(forecast.index, forecast, label='Forecast', color='green')\n",
    "plt.title('ARIMA Forecast vs Actual')\n",
    "plt.xlabel('Date')\n",
    "plt.ylabel('Adj Close')\n",
    "plt.legend()\n",
    "plt.show()"
   ]
  },
  {
   "cell_type": "code",
   "execution_count": null,
   "id": "8e5ecd68",
   "metadata": {},
   "outputs": [],
   "source": [
    "# Evaluate forecast performance\n",
    "mae = mean_absolute_error(test, forecast)\n",
    "rmse = np.sqrt(mean_squared_error(test, forecast))\n",
    "mape = np.mean(np.abs((test - forecast) / test)) * 100\n",
    "print(f'MAE: {mae:.4f}')\n",
    "print(f'RMSE: {rmse:.4f}')\n",
    "print(f'MAPE: {mape:.2f}%')"
   ]
  },
  {
   "cell_type": "code",
   "execution_count": null,
   "id": "c770e20e",
   "metadata": {},
   "outputs": [],
   "source": [
    "# Plot residuals to check for patterns\n",
    "residuals = test - forecast\n",
    "plt.figure(figsize=(12,4))\n",
    "plt.plot(residuals)\n",
    "plt.title('Forecast Residuals (Test - Forecast)')\n",
    "plt.xlabel('Date')\n",
    "plt.ylabel('Residual')\n",
    "plt.show()\n",
    "\n",
    "plt.figure(figsize=(6,4))\n",
    "plt.hist(residuals, bins=30, edgecolor='k')\n",
    "plt.title('Distribution of Residuals')\n",
    "plt.xlabel('Residual')\n",
    "plt.ylabel('Frequency')\n",
    "plt.show()"
   ]
  },
  {
   "cell_type": "markdown",
   "id": "fcb8c35a",
   "metadata": {},
   "source": [
    "## Discussion\n",
    "- Summarize the model's performance and discuss any patterns or issues observed in the residuals.\n",
    "- Consider next steps: further tuning, adding exogenous variables, or comparing with LSTM."
   ]
  }
 ],
 "metadata": {
  "kernelspec": {
   "display_name": "venv",
   "language": "python",
   "name": "python3"
  },
  "language_info": {
   "codemirror_mode": {
    "name": "ipython",
    "version": 3
   },
   "file_extension": ".py",
   "mimetype": "text/x-python",
   "name": "python",
   "nbconvert_exporter": "python",
   "pygments_lexer": "ipython3",
   "version": "3.11.8"
  }
 },
 "nbformat": 4,
 "nbformat_minor": 5
}
