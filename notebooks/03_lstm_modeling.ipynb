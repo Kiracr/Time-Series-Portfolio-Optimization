{
 "cells": [
  {
   "cell_type": "markdown",
   "id": "c96a1f8d",
   "metadata": {},
   "source": [
    "# 03 LSTM Modeling\n",
    "- LSTM model for TSLA\n",
    "- Data scaling, sequence generation\n",
    "- Model architecture, training\n",
    "- Model evaluation (MAE, RMSE, MAPE)"
   ]
  },
  {
   "cell_type": "markdown",
   "id": "b7455a33",
   "metadata": {},
   "source": [
    "# 03 LSTM Modeling\n",
    "This notebook demonstrates how to build, train, and evaluate an LSTM model for TSLA stock price forecasting."
   ]
  },
  {
   "cell_type": "code",
   "execution_count": 1,
   "id": "f94c2550",
   "metadata": {},
   "outputs": [
    {
     "ename": "ModuleNotFoundError",
     "evalue": "No module named 'pandas'",
     "output_type": "error",
     "traceback": [
      "\u001b[31m---------------------------------------------------------------------------\u001b[39m",
      "\u001b[31mModuleNotFoundError\u001b[39m                       Traceback (most recent call last)",
      "\u001b[36mCell\u001b[39m\u001b[36m \u001b[39m\u001b[32mIn[1]\u001b[39m\u001b[32m, line 2\u001b[39m\n\u001b[32m      1\u001b[39m \u001b[38;5;66;03m# Import required libraries\u001b[39;00m\n\u001b[32m----> \u001b[39m\u001b[32m2\u001b[39m \u001b[38;5;28;01mimport\u001b[39;00m\u001b[38;5;250m \u001b[39m\u001b[34;01mpandas\u001b[39;00m\u001b[38;5;250m \u001b[39m\u001b[38;5;28;01mas\u001b[39;00m\u001b[38;5;250m \u001b[39m\u001b[34;01mpd\u001b[39;00m\n\u001b[32m      3\u001b[39m \u001b[38;5;28;01mimport\u001b[39;00m\u001b[38;5;250m \u001b[39m\u001b[34;01mnumpy\u001b[39;00m\u001b[38;5;250m \u001b[39m\u001b[38;5;28;01mas\u001b[39;00m\u001b[38;5;250m \u001b[39m\u001b[34;01mnp\u001b[39;00m\n\u001b[32m      4\u001b[39m \u001b[38;5;28;01mimport\u001b[39;00m\u001b[38;5;250m \u001b[39m\u001b[34;01mmatplotlib\u001b[39;00m\u001b[34;01m.\u001b[39;00m\u001b[34;01mpyplot\u001b[39;00m\u001b[38;5;250m \u001b[39m\u001b[38;5;28;01mas\u001b[39;00m\u001b[38;5;250m \u001b[39m\u001b[34;01mplt\u001b[39;00m\n",
      "\u001b[31mModuleNotFoundError\u001b[39m: No module named 'pandas'"
     ]
    }
   ],
   "source": [
    "# Import required libraries\n",
    "import pandas as pd\n",
    "import numpy as np\n",
    "import matplotlib.pyplot as plt\n",
    "from sklearn.preprocessing import MinMaxScaler\n",
    "from sklearn.metrics import mean_absolute_error, mean_squared_error\n",
    "from tensorflow.keras.models import Sequential\n",
    "from tensorflow.keras.layers import LSTM, Dense, Dropout"
   ]
  },
  {
   "cell_type": "code",
   "execution_count": null,
   "id": "fd0a9529",
   "metadata": {},
   "outputs": [],
   "source": [
    "# Load processed TSLA data\n",
    "file_path = '../data/processed/TSLA_processed.csv'\n",
    "df = pd.read_csv(file_path)\n",
    "df['Date'] = pd.to_datetime(df['Date'])\n",
    "df = df.set_index('Date').sort_index()\n",
    "\n",
    "# Use only the 'Adj Close' column for forecasting\n",
    "series = df['Adj Close'].values.reshape(-1, 1)\n",
    "series.shape"
   ]
  },
  {
   "cell_type": "code",
   "execution_count": null,
   "id": "804c5e28",
   "metadata": {},
   "outputs": [],
   "source": [
    "# Split data into train and test sets (train: 2015-2023, test: 2024-2025)\n",
    "split_idx = df.index.get_loc('2024-01-01')\n",
    "train, test = series[:split_idx], series[split_idx:]\n",
    "\n",
    "# Scale data to [0, 1] for LSTM\n",
    "scaler = MinMaxScaler()\n",
    "train_scaled = scaler.fit_transform(train)\n",
    "test_scaled = scaler.transform(test)\n",
    "\n",
    "# Function to create sequences for LSTM\n",
    "def create_sequences(data, seq_length):\n",
    "    xs, ys = [], []\n",
    "    for i in range(len(data) - seq_length):\n",
    "        xs.append(data[i:i+seq_length])\n",
    "        ys.append(data[i+seq_length])\n",
    "    return np.array(xs), np.array(ys)\n",
    "\n",
    "seq_length = 30  # Use 30 days for each input sequence\n",
    "X_train, y_train = create_sequences(train_scaled, seq_length)\n",
    "X_test, y_test = create_sequences(np.concatenate([train_scaled[-seq_length:], test_scaled]), seq_length)\n",
    "\n",
    "print(f'X_train shape: {X_train.shape}, y_train shape: {y_train.shape}')\n",
    "print(f'X_test shape: {X_test.shape}, y_test shape: {y_test.shape}')"
   ]
  },
  {
   "cell_type": "code",
   "execution_count": null,
   "id": "bb5217f1",
   "metadata": {},
   "outputs": [],
   "source": [
    "# Build and train the LSTM model\n",
    "model = Sequential([\n",
    "    LSTM(50, return_sequences=True, input_shape=(seq_length, 1)),\n",
    "    Dropout(0.2),\n",
    "    LSTM(50),\n",
    "    Dropout(0.2),\n",
    "    Dense(1)\n",
    "])\n",
    "model.compile(optimizer='adam', loss='mse')\n",
    "\n",
    "# Train the model\n",
    "history = model.fit(X_train, y_train, epochs=20, batch_size=32, validation_split=0.1, verbose=1)"
   ]
  },
  {
   "cell_type": "code",
   "execution_count": null,
   "id": "41cc7a2f",
   "metadata": {},
   "outputs": [],
   "source": [
    "# Plot training and validation loss curves\n",
    "plt.figure(figsize=(8,4))\n",
    "plt.plot(history.history['loss'], label='Train Loss')\n",
    "plt.plot(history.history['val_loss'], label='Validation Loss')\n",
    "plt.title('LSTM Training and Validation Loss')\n",
    "plt.xlabel('Epoch')\n",
    "plt.ylabel('Loss')\n",
    "plt.legend()\n",
    "plt.show()"
   ]
  },
  {
   "cell_type": "code",
   "execution_count": null,
   "id": "7a9225d8",
   "metadata": {},
   "outputs": [],
   "source": [
    "# Make predictions with the LSTM model\n",
    "# Predict on test set\n",
    "pred_scaled = model.predict(X_test)\n",
    "pred = scaler.inverse_transform(pred_scaled)\n",
    "y_test_inv = scaler.inverse_transform(y_test)\n",
    "\n",
    "# Plot actual vs predicted\n",
    "plt.figure(figsize=(12,6))\n",
    "plt.plot(df.index[-len(y_test_inv):], y_test_inv, label='Actual')\n",
    "plt.plot(df.index[-len(pred):], pred, label='LSTM Forecast')\n",
    "plt.title('LSTM Forecast vs Actual')\n",
    "plt.xlabel('Date')\n",
    "plt.ylabel('Adj Close')\n",
    "plt.legend()\n",
    "plt.show()"
   ]
  },
  {
   "cell_type": "code",
   "execution_count": null,
   "id": "a885bab7",
   "metadata": {},
   "outputs": [],
   "source": [
    "# Evaluate LSTM forecast performance\n",
    "mae = mean_absolute_error(y_test_inv, pred)\n",
    "rmse = np.sqrt(mean_squared_error(y_test_inv, pred))\n",
    "mape = np.mean(np.abs((y_test_inv - pred) / y_test_inv)) * 100\n",
    "print(f'LSTM MAE: {mae:.4f}')\n",
    "print(f'LSTM RMSE: {rmse:.4f}')\n",
    "print(f'LSTM MAPE: {mape:.2f}%')"
   ]
  },
  {
   "cell_type": "code",
   "execution_count": null,
   "id": "86e4b9f7",
   "metadata": {},
   "outputs": [],
   "source": [
    "# Plot residuals to check for patterns\n",
    "residuals = y_test_inv.flatten() - pred.flatten()\n",
    "plt.figure(figsize=(12,4))\n",
    "plt.plot(residuals)\n",
    "plt.title('LSTM Forecast Residuals (Actual - Forecast)')\n",
    "plt.xlabel('Time Step')\n",
    "plt.ylabel('Residual')\n",
    "plt.show()\n",
    "\n",
    "plt.figure(figsize=(6,4))\n",
    "plt.hist(residuals, bins=30, edgecolor='k')\n",
    "plt.title('Distribution of LSTM Residuals')\n",
    "plt.xlabel('Residual')\n",
    "plt.ylabel('Frequency')\n",
    "plt.show()"
   ]
  },
  {
   "cell_type": "markdown",
   "id": "97c9c687",
   "metadata": {},
   "source": [
    "## Discussion\n",
    "- Summarize the LSTM model's performance and discuss any patterns or issues observed in the residuals.\n",
    "- Consider next steps: further tuning, more features, or comparison with ARIMA."
   ]
  }
 ],
 "metadata": {
  "kernelspec": {
   "display_name": "venv",
   "language": "python",
   "name": "python3"
  },
  "language_info": {
   "codemirror_mode": {
    "name": "ipython",
    "version": 3
   },
   "file_extension": ".py",
   "mimetype": "text/x-python",
   "name": "python",
   "nbconvert_exporter": "python",
   "pygments_lexer": "ipython3",
   "version": "3.11.8"
  }
 },
 "nbformat": 4,
 "nbformat_minor": 5
}
